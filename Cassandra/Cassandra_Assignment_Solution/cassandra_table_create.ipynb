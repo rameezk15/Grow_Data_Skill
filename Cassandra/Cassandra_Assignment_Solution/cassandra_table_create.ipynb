{
 "cells": [
  {
   "cell_type": "code",
   "execution_count": 1,
   "metadata": {},
   "outputs": [
    {
     "name": "stdout",
     "output_type": "stream",
     "text": [
      "Hello World !!\n"
     ]
    }
   ],
   "source": [
    "print(\"Hello World !!\")"
   ]
  },
  {
   "cell_type": "code",
   "execution_count": 2,
   "metadata": {},
   "outputs": [
    {
     "name": "stdout",
     "output_type": "stream",
     "text": [
      "Collecting cassandra-driver\n",
      "  Using cached cassandra_driver-3.28.0-cp38-cp38-win_amd64.whl (2.9 MB)\n",
      "Requirement already satisfied: six>=1.9 in f:\\dataengineer\\projects\\de_2_realtime_cassandra\\env\\lib\\site-packages (from cassandra-driver) (1.16.0)\n",
      "Collecting geomet<0.3,>=0.1\n",
      "  Using cached geomet-0.2.1.post1-py3-none-any.whl (18 kB)\n",
      "Collecting click\n",
      "  Using cached click-8.1.6-py3-none-any.whl (97 kB)\n",
      "Requirement already satisfied: colorama in f:\\dataengineer\\projects\\de_2_realtime_cassandra\\env\\lib\\site-packages (from click->geomet<0.3,>=0.1->cassandra-driver) (0.4.6)\n",
      "Installing collected packages: click, geomet, cassandra-driver\n",
      "Successfully installed cassandra-driver-3.28.0 click-8.1.6 geomet-0.2.1.post1\n",
      "Note: you may need to restart the kernel to use updated packages.\n"
     ]
    },
    {
     "name": "stderr",
     "output_type": "stream",
     "text": [
      "WARNING: You are using pip version 21.1.1; however, version 23.2.1 is available.\n",
      "You should consider upgrading via the 'f:\\DataEngineer\\Projects\\DE_2_RealTime_Cassandra\\env\\Scripts\\python.exe -m pip install --upgrade pip' command.\n"
     ]
    }
   ],
   "source": [
    "pip install cassandra-driver"
   ]
  },
  {
   "cell_type": "code",
   "execution_count": 3,
   "metadata": {},
   "outputs": [
    {
     "name": "stdout",
     "output_type": "stream",
     "text": [
      "3.28.0\n"
     ]
    }
   ],
   "source": [
    "import cassandra\n",
    "print (cassandra.__version__)"
   ]
  },
  {
   "cell_type": "code",
   "execution_count": 4,
   "metadata": {},
   "outputs": [
    {
     "name": "stdout",
     "output_type": "stream",
     "text": [
      "4.0.0.6816\n"
     ]
    }
   ],
   "source": [
    "from cassandra.cluster import Cluster\n",
    "from cassandra.auth import PlainTextAuthProvider\n",
    "\n",
    "cloud_config= {\n",
    "  'secure_connect_bundle': 'secure-connect-cassandra-demo.zip'\n",
    "}\n",
    "auth_provider = PlainTextAuthProvider('YcFBXWbhJbGWbvvqFdIUmpvs', 'iAOq5Z_Z+DxYAurWtvTpwMApnFn6IDUGHigG2oQsxUspbTY,pLkP5NyQZoJsEjB87rewk-LP-a.OkOz+xOIr0PbeuMmMcsxLLWFSWaUagQZcy6FulrKMvzD.dsD6eNET')\n",
    "cluster = Cluster(cloud=cloud_config, auth_provider=auth_provider)\n",
    "session = cluster.connect()\n",
    "\n",
    "row = session.execute(\"select release_version from system.local\").one()\n",
    "# print(row)\n",
    "if row:\n",
    "    print(row[0])\n",
    "else:\n",
    "    print(\"An error occurred.\")"
   ]
  },
  {
   "cell_type": "code",
   "execution_count": 5,
   "metadata": {},
   "outputs": [
    {
     "name": "stdout",
     "output_type": "stream",
     "text": [
      "Inside the ecommerce keyspace\n"
     ]
    }
   ],
   "source": [
    "# Command to use a keyspace\n",
    "try:\n",
    "    query = \"use ecommerce\"\n",
    "    session.execute(query)\n",
    "    print(\"Inside the ecommerce keyspace\")\n",
    "except Exception as err:\n",
    "    print(\"Exception Occured while using Keyspace : \",err)"
   ]
  },
  {
   "cell_type": "code",
   "execution_count": 6,
   "metadata": {},
   "outputs": [
    {
     "name": "stdout",
     "output_type": "stream",
     "text": [
      "Table created inside the keyspace\n"
     ]
    }
   ],
   "source": [
    "# Command to create a table inside a KEyspace\n",
    "try:\n",
    "    query = \"\"\"CREATE TABLE ecommerce.orders (\n",
    "    order_id uuid,\n",
    "    customer_id uuid,\n",
    "    order_status varchar,\n",
    "    order_purchase_timestamp timestamp,\n",
    "    order_approved_at timestamp,\n",
    "    order_delivered_carrier_date timestamp,\n",
    "    order_delivered_customer_date timestamp,\n",
    "    order_estimated_delivery_date timestamp,\n",
    "    order_hour int,\n",
    "    Oorder_day_of_week varchar,\n",
    "    PRIMARY KEY ((customer_id), order_id, order_purchase_timestamp)\n",
    ")\"\"\"\n",
    "    session.execute(query)\n",
    "    print(\"Table created inside the keyspace\")\n",
    "except Exception as err:\n",
    "    print(\"Exception Occured while creating the table : \",err)"
   ]
  }
 ],
 "metadata": {
  "kernelspec": {
   "display_name": "env",
   "language": "python",
   "name": "python3"
  },
  "language_info": {
   "codemirror_mode": {
    "name": "ipython",
    "version": 3
   },
   "file_extension": ".py",
   "mimetype": "text/x-python",
   "name": "python",
   "nbconvert_exporter": "python",
   "pygments_lexer": "ipython3",
   "version": "3.8.10"
  },
  "orig_nbformat": 4
 },
 "nbformat": 4,
 "nbformat_minor": 2
}
